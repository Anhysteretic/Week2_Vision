{
 "cells": [
  {
   "cell_type": "markdown",
   "metadata": {},
   "source": [
    "# Pinhole Camera Model Practice Questions"
   ]
  },
  {
   "cell_type": "markdown",
   "metadata": {},
   "source": [
    "## Question 1: Perspective Projection"
   ]
  },
  {
   "cell_type": "markdown",
   "metadata": {},
   "source": [
    "A 3D point in the camera coordinate system is given by `p_c = [10, 5, 20]`. \n",
    "The camera has a focal length `f` of 50mm. \n",
    "Calculate the position of the projection of this point on the image plane in meters."
   ]
  },
  {
   "cell_type": "code",
   "execution_count": 3,
   "metadata": {},
   "outputs": [],
   "source": [
    "import numpy as np"
   ]
  },
  {
   "cell_type": "code",
   "execution_count": 31,
   "metadata": {},
   "outputs": [
    {
     "name": "stdout",
     "output_type": "stream",
     "text": [
      "[[0.025 ]\n",
      " [0.0125]\n",
      " [1.    ]]\n"
     ]
    }
   ],
   "source": [
    "p_x = np.array([10, 5, 20]).reshape((3,1))\n",
    "f=50\n",
    "f/= 1000\n",
    "multi = np.array([[f, 0, 0], [0, f, 0], [0, 0, 1]]) @ p_x\n",
    "multi /= p_x[2]\n",
    "print(multi)"
   ]
  },
  {
   "cell_type": "markdown",
   "metadata": {},
   "source": [
    "---"
   ]
  },
  {
   "cell_type": "markdown",
   "metadata": {},
   "source": [
    "## Question 2: Conversion to Pixels"
   ]
  },
  {
   "cell_type": "markdown",
   "metadata": {},
   "source": [
    "Given the projected point from Question 1, convert its coordinates from meters to pixels. \n",
    "Assume the following intrinsic parameters: \n",
    "- `s_x` = 800 pixels/meter\n",
    "- `s_y` = 800 pixels/meter\n",
    "- `o_x` = 320 pixels\n",
    "- `o_y` = 240 pixels\n",
    "What are the pixel coordinates `(u^I, v^I)`?"
   ]
  },
  {
   "cell_type": "code",
   "execution_count": 33,
   "metadata": {},
   "outputs": [
    {
     "name": "stdout",
     "output_type": "stream",
     "text": [
      "[[340.]\n",
      " [250.]\n",
      " [  1.]]\n"
     ]
    }
   ],
   "source": [
    "s_x = 800\n",
    "s_y = 800\n",
    "o_x = 320\n",
    "o_y = 240\n",
    "K = np.array([[s_x, 0, o_x], [0, s_y, o_y], [0, 0, 1]])\n",
    "pixels = K @ multi\n",
    "print(pixels)"
   ]
  },
  {
   "cell_type": "markdown",
   "metadata": {},
   "source": [
    "---"
   ]
  },
  {
   "cell_type": "markdown",
   "metadata": {},
   "source": [
    "## Question 3: Intrinsic Matrix"
   ]
  },
  {
   "cell_type": "markdown",
   "metadata": {},
   "source": [
    "Construct the intrinsic calibration matrix `K` using the parameters from Question 2, assuming no skew (`s_θ = 0`)."
   ]
  },
  {
   "cell_type": "code",
   "execution_count": 45,
   "metadata": {},
   "outputs": [
    {
     "name": "stdout",
     "output_type": "stream",
     "text": [
      "[[ 40.   0. 320.]\n",
      " [  0.  40. 240.]\n",
      " [  0.   0.   1.]]\n"
     ]
    }
   ],
   "source": [
    "K = np.array([[s_x * f, 0, o_x], [0, s_y*f, o_y], [0, 0, 1]])\n",
    "print(K)"
   ]
  },
  {
   "cell_type": "markdown",
   "metadata": {},
   "source": [
    "---"
   ]
  },
  {
   "cell_type": "markdown",
   "metadata": {},
   "source": [
    "## Question 4: Point Projection with Known Pose"
   ]
  },
  {
   "cell_type": "markdown",
   "metadata": {},
   "source": [
    "A point in the world frame is given by `p_w = [2, 3, 50]`. The camera's pose `T_w^c` is given by an identity rotation matrix and a translation vector `t_w^c = [0, 0, 10]`. [cite_start]Using the intrinsic matrix `K` from Question 3, calculate the pixel coordinates of the projected point. [cite: 14, 16, 17]"
   ]
  },
  {
   "cell_type": "code",
   "execution_count": 59,
   "metadata": {},
   "outputs": [
    {
     "name": "stdout",
     "output_type": "stream",
     "text": [
      "[60.]\n",
      "[[321.33333333]\n",
      " [242.        ]]\n"
     ]
    }
   ],
   "source": [
    "p_w = np.array([2, 3, 50, 1]).reshape((4,1))\n",
    "rwc = np.array([[1, 0, 0], [0, 1, 0], [0, 0, 1]])\n",
    "twc = np.array([0, 0, 10]).reshape((3, 1))\n",
    "extrinsic = np.hstack((rwc, twc))\n",
    "temp = K @ extrinsic @ p_w\n",
    "print(temp[2])\n",
    "print((temp / temp[2])[:2])"
   ]
  },
  {
   "cell_type": "markdown",
   "metadata": {},
   "source": [
    "## Question 5: Radial Distortion"
   ]
  },
  {
   "cell_type": "markdown",
   "metadata": {},
   "source": [
    "A point is projected on the image plane at `(u_distort^I, v_distort^I) = (400, 350)` including radial distortion. Given distortion coefficients `a1 = 0.0001` and `a2 = 0.0000002` and the principal point `(o_x, o_y) = (320, 240)`, calculate the corrected pixel coordinates `(u^I, v^I)`."
   ]
  },
  {
   "cell_type": "code",
   "execution_count": 55,
   "metadata": {},
   "outputs": [
    {
     "name": "stdout",
     "output_type": "stream",
     "text": [
      "[6024. 8083.]\n"
     ]
    }
   ],
   "source": [
    "u_dist = 400\n",
    "v_dist = 350\n",
    "a1 = 0.0001\n",
    "a2 = 0.0000002\n",
    "o_x = 320\n",
    "o_y = 240\n",
    "r2 = (u_dist - o_x) ** 2 + (v_dist - o_y) ** 2\n",
    "ui = (1 + a1 * r2 + a2 * (r2 **2)) * (u_dist - o_x) + o_x\n",
    "vi = (1 + a1 * r2 + a2 * (r2 **2)) * (v_dist - o_y) + o_y\n",
    "print(np.array([ui, vi]))"
   ]
  }
 ],
 "metadata": {
  "kernelspec": {
   "display_name": "Python 3 (ipykernel)",
   "language": "python",
   "name": "python3"
  },
  "language_info": {
   "codemirror_mode": {
    "name": "ipython",
    "version": 3
   },
   "file_extension": ".py",
   "mimetype": "text/x-python",
   "name": "python",
   "nbconvert_exporter": "python",
   "pygments_lexer": "ipython3",
   "version": "3.12.11"
  }
 },
 "nbformat": 4,
 "nbformat_minor": 4
}
